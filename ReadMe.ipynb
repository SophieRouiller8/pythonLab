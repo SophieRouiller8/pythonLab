{
  "nbformat": 4,
  "nbformat_minor": 0,
  "metadata": {
    "colab": {
      "name": "ReadMe.ipynb",
      "provenance": [],
      "authorship_tag": "ABX9TyMvk4Fopni5jyHKVZ2vk+/o",
      "include_colab_link": true
    },
    "kernelspec": {
      "name": "python3",
      "display_name": "Python 3"
    },
    "language_info": {
      "name": "python"
    }
  },
  "cells": [
    {
      "cell_type": "markdown",
      "metadata": {
        "id": "view-in-github",
        "colab_type": "text"
      },
      "source": [
        "<a href=\"https://colab.research.google.com/github/SophieRouiller8/pythonLab/blob/main/ReadMe.ipynb\" target=\"_parent\"><img src=\"https://colab.research.google.com/assets/colab-badge.svg\" alt=\"Open In Colab\"/></a>"
      ]
    },
    {
      "cell_type": "markdown",
      "source": [
        "#PythonColab\n",
        "## Guidelines to create a library of functions\n"
      ],
      "metadata": {
        "id": "PrC_IlqA7C37"
      }
    },
    {
      "cell_type": "markdown",
      "source": [
        ""
      ],
      "metadata": {
        "id": "U9E7nUmP7iAL"
      }
    }
  ]
}